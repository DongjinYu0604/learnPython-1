{
 "cells": [
  {
   "cell_type": "markdown",
   "metadata": {},
   "source": [
    "#  jupyter notebook 사용법"
   ]
  },
  {
   "cell_type": "markdown",
   "metadata": {},
   "source": [
    "### jupyter notebook 설치와 기본 폴더 설정하기\n",
    "```python\n",
    "c:\\users\\user>pip3 install jupyter  \n",
    "c;\\users\\user\\jupyter notebook --generate-config  \n",
    "```\n",
    "사용자 폴더에 생성된 .jupyter 하위폴더로 이동하여 jupyter_notebook_config.py 파일을 메모장을 이용하여 오픈하여, \n",
    "```\n",
    "#c.NotebookApp.notebook_dir = ''\n",
    "```\n",
    "부분을 찾아 기본 폴더로 사용하고자 하는 폴더로 변경하고, 주석을 해제한다."
   ]
  },
  {
   "cell_type": "code",
   "execution_count": null,
   "metadata": {},
   "outputs": [],
   "source": []
  }
 ],
 "metadata": {
  "kernelspec": {
   "display_name": "Python 3",
   "language": "python",
   "name": "python3"
  },
  "language_info": {
   "codemirror_mode": {
    "name": "ipython",
    "version": 3
   },
   "file_extension": ".py",
   "mimetype": "text/x-python",
   "name": "python",
   "nbconvert_exporter": "python",
   "pygments_lexer": "ipython3",
   "version": "3.9.0"
  }
 },
 "nbformat": 4,
 "nbformat_minor": 4
}
