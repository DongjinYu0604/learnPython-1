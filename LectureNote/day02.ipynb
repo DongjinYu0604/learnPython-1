{
 "cells": [
  {
   "cell_type": "markdown",
   "metadata": {},
   "source": [
    "# 2일차 수업"
   ]
  },
  {
   "cell_type": "markdown",
   "metadata": {},
   "source": [
    "### 학습내용\n",
    "- Github 계정 만들기  \n",
    "- Pycharm 설치\n",
    "- Jupyter Notebook 설치 및 기본 폴더 지정\n",
    "- PyCharm, Github 연동하기\n",
    "\n",
    "### 실습과제\n",
    "- 집/노트북 컴퓨터, Python 개발 환경 구축\n",
    "- 학습 내용 git연동 및 공유하기"
   ]
  },
  {
   "cell_type": "markdown",
   "metadata": {},
   "source": [
    "### 수업중 실습내용 복기\n",
    "- github sign up, github.com 사이트\n",
    "- Repository 만들기\n",
    "  * Repository name입력\n",
    "  * Visibility 선택 : Public 또는 Private\n",
    "  * Repository 초기화 : Add a README file 체크\n",
    "- Pycharm 설치\n",
    "  * Pycharm  커뮤니티 버전 [다운로드 링크](https://www.jetbrains.com/pycharm/)\n",
    "- Pycharm Github 연동\n",
    "  * Pycharm 실행 후 Welcome 메뉴에서 Get From VCS 선택\n",
    "  * 좌측메뉴에서 Github 선택 후 리스팅되는 repository 목록 중 clone하고자 하는 것 선택\n",
    "  * 아래 디렉토리창에 폴더 지정하기(기본 위치는 사용자 폴더 아래, 변경 가능함)\n",
    "  * clone 버튼 클릭\n",
    "- Jupyter Notebook configuration파일을 편집하여 Pycharm과 연동되는 폴더를 기본폴더로 지정\n",
    "- Jupyter Notebook 작업 파일 저장 후 종료(처음 실행된 브라우저 우측 상단, Quit 클릭)\n",
    "- Jupyter Notebook 작업 내용이 Pycharm VCS에서도 연동되는지 확인"
   ]
  },
  {
   "cell_type": "code",
   "execution_count": null,
   "metadata": {},
   "outputs": [],
   "source": []
  }
 ],
 "metadata": {
  "kernelspec": {
   "display_name": "Python 3",
   "language": "python",
   "name": "python3"
  },
  "language_info": {
   "codemirror_mode": {
    "name": "ipython",
    "version": 3
   },
   "file_extension": ".py",
   "mimetype": "text/x-python",
   "name": "python",
   "nbconvert_exporter": "python",
   "pygments_lexer": "ipython3",
   "version": "3.9.0"
  }
 },
 "nbformat": 4,
 "nbformat_minor": 4
}
