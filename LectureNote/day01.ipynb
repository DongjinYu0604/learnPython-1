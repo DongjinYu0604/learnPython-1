{
 "cells": [
  {
   "cell_type": "markdown",
   "metadata": {},
   "source": [
    "# 1일차 수업\n",
    "- python 설치\n",
    "- Anaoconda 설치\n",
    "- Jupyter Notebook 실행\n",
    "### JupyterNotebook 단축키\n",
    "- m, y : 마크다운/코드 상태간 전환\n",
    "- Ctrl + Enter : 현재 셀 실행만\n",
    "- Shift + Enter : 현재 셀 실행 후 아래에 빈 셀 추가(아래 셀로 이동)\n",
    "- a, b : 현재 셀 기준 위쪽/아래쪽에 새로운 셀 추가\n",
    "- dd : 현재 셀 삭제\n",
    "- c, v : 셀 복사하여 붙여 넣기"
   ]
  },
  {
   "cell_type": "markdown",
   "metadata": {},
   "source": [
    "# 1. 파이썬 기초\n",
    "## 1.1 기본 입출력함수\n",
    "### print() 함수\n",
    "()안에 출력하고자 하는 내용을 적어주고 그 내용을 출력한다.\n",
    "```python\n",
    "print(\"Hello Python\")\n",
    "```"
   ]
  },
  {
   "cell_type": "code",
   "execution_count": 4,
   "metadata": {},
   "outputs": [
    {
     "name": "stdout",
     "output_type": "stream",
     "text": [
      "Hello Python\n"
     ]
    }
   ],
   "source": [
    "print(\"Hello Python\")"
   ]
  },
  {
   "cell_type": "markdown",
   "metadata": {},
   "source": [
    "### input()함수\n",
    "사용자로부터 데이터를 입력 받을 때 사용하는 함수.\n",
    "```python\n",
    "a = input(\"임의의 숫자를 입력해주세요 : \")\n",
    "print(a)\n",
    "```"
   ]
  },
  {
   "cell_type": "code",
   "execution_count": 5,
   "metadata": {},
   "outputs": [
    {
     "name": "stdout",
     "output_type": "stream",
     "text": [
      "임의 숫자를 입력해주세요100\n",
      "100\n"
     ]
    }
   ],
   "source": [
    "a = input(\"임의 숫자를 입력해주세요\")\n",
    "print(a)"
   ]
  },
  {
   "cell_type": "markdown",
   "metadata": {},
   "source": [
    "## 1.2 변수와 데이터타입\n",
    "### 변수 \n",
    "프로그램에서 사용하는 데이터를 보관하기 위한 기억장소(공간)에 붙여지는 이름. 기억장소는 보관하는 데이터가 무엇인지를 결정하는 데이터타입과 연관지어 설명할 수 있다.\n",
    "```python\n",
    "number1 = 10   #변수 number1에 숫자값 10을 대입한다.\n",
    "str1 = 'korean' #변수 str1에 문자열 korean을 대입한다.\n",
    "```"
   ]
  },
  {
   "cell_type": "code",
   "execution_count": 6,
   "metadata": {},
   "outputs": [],
   "source": [
    "number1 = 10\n",
    "str1 = 'korean'"
   ]
  },
  {
   "cell_type": "markdown",
   "metadata": {},
   "source": [
    "### 데이터타입\n",
    "정수형/실수형/문자/문자열/부울 boolean\n",
    "```python\n",
    "print(type(number1))\n",
    "print(type(str1))\n",
    "type(1.234)\n",
    "```"
   ]
  },
  {
   "cell_type": "code",
   "execution_count": 9,
   "metadata": {},
   "outputs": [
    {
     "name": "stdout",
     "output_type": "stream",
     "text": [
      "<class 'int'>\n",
      "<class 'str'>\n"
     ]
    },
    {
     "data": {
      "text/plain": [
       "float"
      ]
     },
     "execution_count": 9,
     "metadata": {},
     "output_type": "execute_result"
    }
   ],
   "source": [
    "print(type(number1))\n",
    "print(type(str1))\n",
    "type(1.234)"
   ]
  },
  {
   "cell_type": "markdown",
   "metadata": {},
   "source": [
    "## 1.3 연산자\n",
    "대상이 되는 데이터를 어떻게 가공(조작)할지 방법을 결정짓는 것.  \n",
    "예)  sum = 10 + 20 문장은 두 수 10과 20을 더하여 그 결과를 sum 변수에 대입해라.  \n",
    "위 문장에는 연산자가 두 개가 있는데, '+'연산자와 '=' 연사자가 그것이다.  \n",
    "'+' 연산자는 두 수를 더하라는 의미이고, '='(대입연산자)는 우측의 계산결과를 왼쪽 변수에 대입하라는 의미이다."
   ]
  },
  {
   "cell_type": "markdown",
   "metadata": {},
   "source": [
    "### 연산자의 종류\n",
    "#### 산술연산자\n",
    "+, -, *, /, %\n",
    "#### 관계연산자\n",
    "\\>, <, >=, <=, ==, !=\n",
    "#### 논리연산자\n",
    "and, or, not\n",
    "#### 복합대입연산자\n",
    "+=, -=, 등.... \n",
    "#### 증감연산자\n",
    "++, --"
   ]
  },
  {
   "cell_type": "markdown",
   "metadata": {},
   "source": [
    "## 1.4 프로그래밍의 의미\n",
    "#### 재은이 문제를 해결하는 과정\n",
    "1. 쌤이 주는 두 개의 숫자를 받아\n",
    "2. 합한 결과를 보관한 변수를 선언하고, 그 변수에 두 개의 숫자를 더한 결과를 대입한다.\n",
    "3. 결과값을 쌤에게 돌려 준다.\n",
    "\n",
    "프로그래밍이란 컴퓨터가 문제를 해결하기 위한 과정을 서술하는 것.\n"
   ]
  },
  {
   "cell_type": "code",
   "execution_count": 13,
   "metadata": {},
   "outputs": [],
   "source": [
    "# 두개의 숫자를 입력으로 받아 합계를 구하는 과정\n",
    "def jaeun(n1, n2):\n",
    "    sum = n1 + n2\n",
    "    return sum"
   ]
  },
  {
   "cell_type": "code",
   "execution_count": 15,
   "metadata": {},
   "outputs": [
    {
     "name": "stdout",
     "output_type": "stream",
     "text": [
      "30\n"
     ]
    }
   ],
   "source": [
    "# 요 라인은 쌤..... 쌤이 10과 20을 재은에게 주면서 일을 시키는 모습\n",
    "print(jaeun(10, 20))"
   ]
  },
  {
   "cell_type": "markdown",
   "metadata": {},
   "source": [
    "### 문제해결 진행 방법(제어흐름Control Flow)\n",
    "* 순차적 진행(Sequential control)\n",
    "* 조건에 따른 진행(Coditional contrl)\n",
    "* 반복 진행(Loop control)"
   ]
  }
 ],
 "metadata": {
  "kernelspec": {
   "display_name": "Python 3",
   "language": "python",
   "name": "python3"
  },
  "language_info": {
   "codemirror_mode": {
    "name": "ipython",
    "version": 3
   },
   "file_extension": ".py",
   "mimetype": "text/x-python",
   "name": "python",
   "nbconvert_exporter": "python",
   "pygments_lexer": "ipython3",
   "version": "3.9.0"
  }
 },
 "nbformat": 4,
 "nbformat_minor": 4
}
