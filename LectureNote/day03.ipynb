{
 "cells": [
  {
   "cell_type": "markdown",
   "metadata": {},
   "source": [
    "# 3일차 수업"
   ]
  },
  {
   "cell_type": "markdown",
   "metadata": {},
   "source": [
    "### 1. 1~2일차 수업내용 Remind\n",
    "#### 1.1 입출력함수\n",
    "- 사용자로부터 데이터를 입력받기 위한 입력함수는?\n",
    "```python\n",
    "a = i____();\n",
    "\n",
    "```\n",
    "이 코드를 실행해보자"
   ]
  },
  {
   "cell_type": "code",
   "execution_count": null,
   "metadata": {},
   "outputs": [],
   "source": []
  },
  {
   "cell_type": "markdown",
   "metadata": {},
   "source": [
    "위 실행코드는 오류가 발생한다. 오류의 내용을 확인하고 원인을 말해보세요.\n",
    "input()함수를 통한 입력값은 (    )이기 때문에 연산 적용이 안된다.\n",
    "정수로 변환하는 과정이 필요함"
   ]
  },
  {
   "cell_type": "code",
   "execution_count": null,
   "metadata": {},
   "outputs": [],
   "source": []
  },
  {
   "cell_type": "markdown",
   "metadata": {},
   "source": [
    "- print()함수를 사용한 다양한 출력\n",
    "  + 서식의 지정 : 정수 10진수 %d, 16진수 %x, 8진수 %o, 실수 %f, 한 글자 %c, 문자열 %s\n",
    "  + format과 함께 사용  \n",
    "\n",
    "print()함수를 이용한 다양한 출력문을 구성해 봅시다."
   ]
  },
  {
   "cell_type": "code",
   "execution_count": null,
   "metadata": {},
   "outputs": [],
   "source": []
  }
 ],
 "metadata": {
  "kernelspec": {
   "display_name": "Python 3",
   "language": "python",
   "name": "python3"
  },
  "language_info": {
   "codemirror_mode": {
    "name": "ipython",
    "version": 3
   },
   "file_extension": ".py",
   "mimetype": "text/x-python",
   "name": "python",
   "nbconvert_exporter": "python",
   "pygments_lexer": "ipython3",
   "version": "3.9.0"
  }
 },
 "nbformat": 4,
 "nbformat_minor": 4
}
